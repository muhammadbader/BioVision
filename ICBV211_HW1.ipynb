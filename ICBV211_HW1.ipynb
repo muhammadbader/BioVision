{
 "cells": [
  {
   "cell_type": "code",
   "execution_count": 1,
   "metadata": {
    "id": "1BOBP0xKpguQ"
   },
   "outputs": [],
   "source": [
    "import cv2\n",
    "import matplotlib.pyplot as plt\n",
    "import numpy as np\n",
    "from itertools import chain\n",
    "from IPython.display import display, Math, Markdown\n",
    "%matplotlib inline"
   ]
  },
  {
   "cell_type": "markdown",
   "metadata": {
    "id": "L4MehZ8_pCsl"
   },
   "source": [
    "# Question 1 - Perspective and orthographic projections"
   ]
  },
  {
   "cell_type": "code",
   "execution_count": 2,
   "metadata": {
    "id": "xe3n9AbdXdAa"
   },
   "outputs": [],
   "source": [
    "def draw_poly(points,xlim,ylim,title,color):\n",
    "  '''\n",
    "  This function draws a polygon on a 2D axes. \n",
    "  Parameter 'points' is an array of (x,y) coordinates.\n",
    "  The first point in 'points' is concatenated again to the end of the array, to\n",
    "  create a closed polygon form. \n",
    "  '''\n",
    "  _, ax = plt.subplots(figsize=(3, 3))\n",
    "  points_axis = list(zip(*points+[points[0]]))\n",
    "  ax.set_ylabel('Y axis')\n",
    "  ax.set_xlabel('X axis')\n",
    "  ax.set_ylim(ylim[0],ylim[1])\n",
    "  ax.set_xlim(xlim[0],xlim[1])\n",
    "  ax.set_title(title)\n",
    "  ax.plot(*points_axis, color=color)\n",
    "  return ax\n",
    "\n",
    "\n",
    "def write_points(points):\n",
    "    display(Markdown(\"The image points $P_i$ are:\"))\n",
    "    display(Math(r\",\".join([r\"({:.2f},{:.2f})\".format(*p)\n",
    "                            for p in points])))"
   ]
  },
  {
   "cell_type": "code",
   "execution_count": 8,
   "metadata": {},
   "outputs": [
    {
     "data": {
      "text/plain": [
       "1.0"
      ]
     },
     "execution_count": 8,
     "metadata": {},
     "output_type": "execute_result"
    }
   ],
   "source": []
  },
  {
   "cell_type": "markdown",
   "metadata": {
    "id": "zPOmhHyg1pzf"
   },
   "source": [
    "## Section A"
   ]
  },
  {
   "cell_type": "code",
   "execution_count": 104,
   "metadata": {
    "colab": {
     "base_uri": "https://localhost:8080/",
     "height": 312
    },
    "id": "rqgFeu2qcOcH",
    "outputId": "58f86e67-fce6-4ee9-d955-cbed069b7f1b"
   },
   "outputs": [
    {
     "name": "stdout",
     "output_type": "stream",
     "text": [
      "(-0.1, -0.6)\n",
      "(0.3, 0.6)\n",
      "(-0.7, -0.2)\n",
      "(0.5, -0.19999999999999998)\n",
      "(-0.5, 0.6)\n"
     ]
    },
    {
     "data": {
      "text/markdown": [
       "The image points $P_i$ are:"
      ],
      "text/plain": [
       "<IPython.core.display.Markdown object>"
      ]
     },
     "metadata": {},
     "output_type": "display_data"
    },
    {
     "data": {
      "text/latex": [
       "$\\displaystyle (-0.10,-0.60),(0.30,0.60),(-0.70,-0.20),(0.50,-0.20),(-0.50,0.60)$"
      ],
      "text/plain": [
       "<IPython.core.display.Math object>"
      ]
     },
     "metadata": {},
     "output_type": "display_data"
    },
    {
     "data": {
      "text/plain": [
       "<AxesSubplot:title={'center':\"Projection on Camera A's Image Plane\"}, xlabel='X axis', ylabel='Y axis'>"
      ]
     },
     "execution_count": 104,
     "metadata": {},
     "output_type": "execute_result"
    },
    {
     "data": {
      "image/png": "[encoded data removed]",
      "text/plain": [
       "<Figure size 216x216 with 1 Axes>"
      ]
     },
     "metadata": {
      "needs_background": "light"
     },
     "output_type": "display_data"
    }
   ],
   "source": [
    "# =================  Write here the polygon's world points\n",
    "p_w = [(0.4, 2.4,4.0), (-1.8,-3.6,6.0),(1.4,0.4,2.0),(-1.5,0.6,3.0),(2.5,-3.0,5.0)]\n",
    "# =================\n",
    "\n",
    "# Camera's focal length\n",
    "f = 1\n",
    "xc=0\n",
    "yc=0\n",
    "zc=0\n",
    "\n",
    "x = 0\n",
    "y = 0\n",
    "z = 0\n",
    "\n",
    "K = [\n",
    "    [-f,0,0,0],\n",
    "    [0,-f,0,0],\n",
    "    [0,0,1,0],\n",
    "]\n",
    "\n",
    "Rz = [\n",
    "    [np.cos(np.pi*(z)),-np.sin(np.pi*(z)),0],\n",
    "    [np.sin(np.pi*(z)),np.cos(np.pi*(z)),0],\n",
    "    [0,0,1.0]\n",
    "]\n",
    "\n",
    "Ry = [\n",
    "    [np.cos(-np.pi*(y)),0,np.sin(np.pi*(y))],\n",
    "    [0,1.0,0],\n",
    "    [-np.sin(np.pi*(y)),0,np.cos(np.pi*(y))]\n",
    "]\n",
    "\n",
    "Rx = [\n",
    "    [1.0,0,0],\n",
    "    [0,np.cos(np.pi*(x)),-np.sin(np.pi*(x))],\n",
    "    [0,np.sin(np.pi*(x)),np.cos(np.pi*(x))]\n",
    "]\n",
    "\n",
    "\n",
    "Rxyz = np.dot(np.dot(Rx,Ry), Rz)\n",
    "t = [[-xc],[-yc],[-zc]]\n",
    "last_row = np.array([[0,0,0,1]])\n",
    "F = np.append(Rxyz,t,1)\n",
    "F = np.append(F,last_row,axis=0)\n",
    "\n",
    "M = np.dot(K,F)\n",
    "\n",
    "p_i = [np.dot(M, np.array([x,y,z,1])) for x,y,z in p_w]\n",
    "\n",
    "image_a_pts = [(x/z, y/z) for x,y,z in p_i]\n",
    "for i in image_a_pts: print(i)   \n",
    "# Camera's world position\n",
    "\n",
    "\n",
    "# # =================  Change this to the solution of the question (i.e., find the projected points on the image plane)\n",
    "# # image_a_pts = np.array(list([-f*(x-xc)/z, -f*(y-yc)/z] for x,y,z in p_w))\n",
    "# image_a_pts = list([-f*(x-xc)/z, -f*(y-yc)/z] for x,y,z in p_w)\n",
    "# # image_a_pts = np.zeros((5,2))\n",
    "# # ================= \n",
    "\n",
    "write_points(image_a_pts)\n",
    "draw_poly(image_a_pts,[-1,1],[-1,1],'Projection on Camera A\\'s Image Plane','red')"
   ]
  },
  {
   "cell_type": "markdown",
   "metadata": {
    "id": "QHVCA4hQ-ZXc"
   },
   "source": [
    "## Section b"
   ]
  },
  {
   "cell_type": "code",
   "execution_count": 105,
   "metadata": {
    "colab": {
     "base_uri": "https://localhost:8080/",
     "height": 312
    },
    "id": "ae4JiyKR-baT",
    "outputId": "73dbdf40-d0cc-475f-aea9-117bf5a2a8ae"
   },
   "outputs": [
    {
     "name": "stdout",
     "output_type": "stream",
     "text": [
      "\n",
      "\n",
      "5.62   0.25\n",
      "1.45   -0.24\n",
      "1.94   0.39\n",
      "2.35   -0.44\n",
      "1.43   0.36\n"
     ]
    },
    {
     "data": {
      "text/markdown": [
       "The image points $P_i$ are:"
      ],
      "text/plain": [
       "<IPython.core.display.Markdown object>"
      ]
     },
     "metadata": {},
     "output_type": "display_data"
    },
    {
     "data": {
      "text/latex": [
       "$\\displaystyle (5.62,0.25),(1.45,-0.24),(1.94,0.39),(2.35,-0.44),(1.43,0.36)$"
      ],
      "text/plain": [
       "<IPython.core.display.Math object>"
      ]
     },
     "metadata": {},
     "output_type": "display_data"
    },
    {
     "data": {
      "text/plain": [
       "<AxesSubplot:title={'center':\"Projection on Camera B's Image Plane\"}, xlabel='X axis', ylabel='Y axis'>"
      ]
     },
     "execution_count": 105,
     "metadata": {},
     "output_type": "execute_result"
    },
    {
     "data": {
      "image/png": "[encoded data removed]",
      "text/plain": [
       "<Figure size 216x216 with 1 Axes>"
      ]
     },
     "metadata": {
      "needs_background": "light"
     },
     "output_type": "display_data"
    }
   ],
   "source": [
    "\n",
    "\n",
    "# Camera's focal length\n",
    "f = 1\n",
    "\n",
    "# Camera's focal length\n",
    "\n",
    "xc = -5\n",
    "yc = 0\n",
    "zc = 4\n",
    "\n",
    "x = 0.5\n",
    "y = 0.5\n",
    "z = 0\n",
    "K = [\n",
    "    [-f,0,0,0],\n",
    "    [0,-f,0,0],\n",
    "    [0,0,1,0],\n",
    "]\n",
    "\n",
    "Rz = [\n",
    "    [np.cos(np.pi*(z)),-np.sin(np.pi*(z)),0],\n",
    "    [np.sin(np.pi*(z)),np.cos(np.pi*(z)),0],\n",
    "    [0,0,1.0]\n",
    "]\n",
    "\n",
    "Ry = [\n",
    "    [np.cos(-np.pi*(y)),0,np.sin(np.pi*(y))],\n",
    "    [0,1.0,0],\n",
    "    [-np.sin(np.pi*(y)),0,np.cos(np.pi*(y))]\n",
    "]\n",
    "\n",
    "Rx = [\n",
    "    [1.0,0,0],\n",
    "    [0,np.cos(np.pi*(x)),-np.sin(np.pi*(x))],\n",
    "    [0,np.sin(np.pi*(x)),np.cos(np.pi*(x))]\n",
    "]\n",
    "\n",
    "Rxyz = np.dot(np.dot(Rx,Ry), Rz)\n",
    "t = [[-xc],[-yc],[-zc]]\n",
    "last_row = np.array([[0,0,0,1]])\n",
    "F = np.append(Rxyz,t,1)\n",
    "F = np.append(F,last_row,axis=0)\n",
    "\n",
    "M = np.dot(K,F)\n",
    "# rotate = [np.dot(Rxyz, np.array([x1,y1,z1])) for x1,y1,z1 in p_w]\n",
    "# for i in rotate: print(i)\n",
    "\n",
    "# for i in p_w: print(i)\n",
    "# print('\\n')\n",
    "p_i = [np.dot(M, np.array([x1,y1,z1,1])) for x1,y1,z1 in p_w]\n",
    "\n",
    "image_b_pts = [(x/z, y/z) for x,y,z in p_i]\n",
    "for i in image_b_pts: print(r'{:.2f}   {:.2f}'.format(*i))\n",
    "# Camera's world position\n",
    "\n",
    "\n",
    "# # =================  Change this to the solution of the question (i.e., find the projected points on the image plane)\n",
    "# # image_a_pts = np.array(list([-f*(x-xc)/z, -f*(y-yc)/z] for x,y,z in p_w))\n",
    "# image_a_pts = list([-f*(x-xc)/z, -f*(y-yc)/z] for x,y,z in p_w)\n",
    "# # image_a_pts = np.zeros((5,2))\n",
    "# # ================= \n",
    "\n",
    "write_points(image_b_pts)\n",
    "draw_poly(image_b_pts,[1,6],[-0.5,0.5],'Projection on Camera B\\'s Image Plane','red')"
   ]
  },
  {
   "cell_type": "markdown",
   "metadata": {
    "id": "PUKBLcsF_YRO"
   },
   "source": [
    "## Section c"
   ]
  },
  {
   "cell_type": "code",
   "execution_count": 109,
   "metadata": {
    "colab": {
     "base_uri": "https://localhost:8080/",
     "height": 312
    },
    "id": "xRn0AbkA_agr",
    "outputId": "5af9316e-b2ed-4ab0-8a61-55e322561570"
   },
   "outputs": [
    {
     "data": {
      "text/markdown": [
       "The image points $P_i$ are:"
      ],
      "text/plain": [
       "<IPython.core.display.Markdown object>"
      ]
     },
     "metadata": {},
     "output_type": "display_data"
    },
    {
     "data": {
      "text/latex": [
       "$\\displaystyle (-2.40,0.00),(3.60,2.00),(-0.40,-2.00),(-0.60,-1.00),(3.00,1.00)$"
      ],
      "text/plain": [
       "<IPython.core.display.Math object>"
      ]
     },
     "metadata": {},
     "output_type": "display_data"
    },
    {
     "data": {
      "text/plain": [
       "<AxesSubplot:title={'center':\"Orthographic projection on Camera B's Image Plane\"}, xlabel='X axis', ylabel='Y axis'>"
      ]
     },
     "execution_count": 109,
     "metadata": {},
     "output_type": "execute_result"
    },
    {
     "data": {
      "image/png": "[encoded data removed]",
      "text/plain": [
       "<Figure size 216x216 with 1 Axes>"
      ]
     },
     "metadata": {
      "needs_background": "light"
     },
     "output_type": "display_data"
    }
   ],
   "source": [
    "# =================  Change this to the solution of the question (i.e., find the projected points on the image plane)\n",
    "\n",
    "\n",
    "xc = -5\n",
    "yc = 0\n",
    "zc = 4\n",
    "\n",
    "x = 0\n",
    "y = 0\n",
    "z = 0\n",
    "K = [\n",
    "    [-f,0,0,0],\n",
    "    [0,-f,0,0],\n",
    "    [0,0,1,0],\n",
    "]\n",
    "\n",
    "Rz = [\n",
    "    [np.cos(np.pi*(z)),-np.sin(np.pi*(z)),0],\n",
    "    [np.sin(np.pi*(z)),np.cos(np.pi*(z)),0],\n",
    "    [0,0,1.0]\n",
    "]\n",
    "\n",
    "Ry = [\n",
    "    [np.cos(-np.pi*(y)),0,np.sin(np.pi*(y))],\n",
    "    [0,1.0,0],\n",
    "    [-np.sin(np.pi*(y)),0,np.cos(np.pi*(y))]\n",
    "]\n",
    "\n",
    "Rx = [\n",
    "    [1.0,0,0],\n",
    "    [0,np.cos(np.pi*(x)),-np.sin(np.pi*(x))],\n",
    "    [0,np.sin(np.pi*(x)),np.cos(np.pi*(x))]\n",
    "]\n",
    "\n",
    "Rxyz = np.dot(np.dot(Rx,Ry), Rz)\n",
    "t = [[-xc],[-yc],[-zc]]\n",
    "last_row = np.array([[0,0,0,1]])\n",
    "F = np.append(Rxyz,t,1)\n",
    "F = np.append(F,last_row,axis=0)\n",
    "\n",
    "M = np.dot(K,F)\n",
    "# rotate = [np.dot(Rxyz, np.array([x1,y1,z1])) for x1,y1,z1 in p_w]\n",
    "# for i in rotate: print(i)\n",
    "\n",
    "# for i in p_w: print(i)\n",
    "\n",
    "p_i = [np.dot(M, np.array([x1,y1,z1,1])) for x1,y1,z1 in p_w]\n",
    "image_b_pts_orth = list([y,z] for x,y,z in p_i)\n",
    "# ================= \n",
    "\n",
    "\n",
    "write_points(image_b_pts_orth)\n",
    "draw_poly(image_b_pts_orth,[-4,6],[-3,3],'Orthographic projection on Camera B\\'s Image Plane','green')"
   ]
  },
  {
   "cell_type": "markdown",
   "metadata": {
    "id": "-dd5tNeQoBGc"
   },
   "source": [
    "# Question 2 - Camera calibration"
   ]
  },
  {
   "cell_type": "markdown",
   "metadata": {
    "id": "34nBSbrwoBGd"
   },
   "source": [
    "## Section A"
   ]
  },
  {
   "cell_type": "code",
   "execution_count": null,
   "metadata": {
    "colab": {
     "base_uri": "https://localhost:8080/",
     "height": 1000
    },
    "id": "zCGuwHPZoBGf",
    "outputId": "6daa92ea-f300-49a6-f567-bd92cca96f94",
    "scrolled": true
   },
   "outputs": [],
   "source": [
    "images = [cv2.imread(f'myChess/chess{i}.jpeg', cv2.IMREAD_GRAYSCALE) for i in range(20)] # Replace with code to read your images\n",
    "\n",
    "pattern_size = (7, 7)\n",
    "corners = [cv2.findChessboardCorners(img, pattern_size) for img in images]# Add code for detecting chessboard corners\n",
    "print('got here')\n",
    "image_corners = [plt.imshow(cv2.drawChessboardCorners(cv2.cvtColor(img, cv2.COLOR_GRAY2RGB), pattern_size, corner,found) , figure=plt.figure(figsize=(10,10))) for img, (found, corner) in zip(images, corners)] \n",
    "# Code for drawing chessboard corners\n",
    "\n",
    "# _, axes = plt.subplots(10, 2,\n",
    "#                        figsize=(15,75))\n",
    "\n",
    "# for (i, image), ax in zip(enumerate(images), chain.from_iterable(axes)):\n",
    "#     ax.imshow(image)\n",
    "#     ax.set_title(f\"Image {i}\")"
   ]
  },
  {
   "cell_type": "markdown",
   "metadata": {
    "id": "4GDMDaY8oBGj"
   },
   "source": [
    "## Section B"
   ]
  },
  {
   "cell_type": "code",
   "execution_count": null,
   "metadata": {
    "id": "q0h3i7sYoBGk"
   },
   "outputs": [],
   "source": [
    "from itertools import product\n",
    "xs, ys = pattern_size\n",
    "world_points = np.array([(x, y, 0)\n",
    "                         for y, x in product(range(ys), range(xs))],\n",
    "                        dtype=np.float32)\n",
    "print(world_points)\n"
   ]
  },
  {
   "cell_type": "markdown",
   "metadata": {
    "id": "J306qhz-oBGp"
   },
   "source": [
    "## Section C - Perform a calibration"
   ]
  },
  {
   "cell_type": "code",
   "execution_count": null,
   "metadata": {
    "id": "f0NakthuoBGq"
   },
   "outputs": [],
   "source": [
    "# perform calibration here\n",
    "for (_,corner), chess_image in zip(corners, images):\n",
    "    retval, cameraMatrix, distCoeffs, rvecs, tvecs = cv2.calibrateCamera(\n",
    "    objectPoints=[world_points],\n",
    "    imagePoints=[corner],\n",
    "    imageSize=image.shape[::-1],\n",
    "    cameraMatrix=None,\n",
    "    distCoeffs=None)\n",
    "    print(distCoeffs)\n",
    "    print(np.array(rvecs).shape)\n",
    "    print(np.array(tvecs).shape)\n",
    "    print(tvecs)\n",
    "\n",
    "    print(cameraMatrix)\n",
    "# cameraMatrix: is the camera calibration\n",
    "# rvecs: rotation vectors\n",
    "# tvecs: translation vectors\n",
    "# distCoeffs: distortion coefficients"
   ]
  },
  {
   "cell_type": "markdown",
   "metadata": {
    "id": "1Trxk6BloBGu"
   },
   "source": [
    "## Section D  - Camera matrix"
   ]
  },
  {
   "cell_type": "code",
   "execution_count": null,
   "metadata": {
    "id": "ffGLYSDdoBGx"
   },
   "outputs": [],
   "source": [
    "extrinsic_transformations = [np.zeros(1,1) #<==== Replace with code to extract transfomration matrix\n",
    "                             for tvec, rvec in zip(tvecs, rvecs)]\n",
    "M_matrices = [x #<=== Change with your code\n",
    "              for x in extrinsic_transformations]"
   ]
  },
  {
   "cell_type": "markdown",
   "metadata": {
    "id": "qZSvPaP3oBG2"
   },
   "source": [
    "## Section E"
   ]
  },
  {
   "cell_type": "code",
   "execution_count": null,
   "metadata": {
    "id": "pcnzia4eoBG2"
   },
   "outputs": [],
   "source": [
    "## Display the chessboard image here"
   ]
  },
  {
   "cell_type": "code",
   "execution_count": null,
   "metadata": {
    "id": "xxqDjQz-oBG6"
   },
   "outputs": [],
   "source": [
    "#Projection using camera matrix"
   ]
  },
  {
   "cell_type": "code",
   "execution_count": null,
   "metadata": {
    "id": "JF3rSjoqoBG_"
   },
   "outputs": [],
   "source": [
    "#Projection using cv2.projectPoints"
   ]
  },
  {
   "cell_type": "markdown",
   "metadata": {
    "id": "gL3WTZOaoBHD"
   },
   "source": [
    "## Section F"
   ]
  },
  {
   "cell_type": "code",
   "execution_count": null,
   "metadata": {
    "id": "A1mF9iJhoBHE"
   },
   "outputs": [],
   "source": [
    "# Draw cube here"
   ]
  },
  {
   "cell_type": "code",
   "execution_count": null,
   "metadata": {
    "id": "0W3BQ6wcoBHJ"
   },
   "outputs": [],
   "source": [
    "# Draw rotated cube here"
   ]
  }
 ],
 "metadata": {
  "colab": {
   "collapsed_sections": [],
   "name": "ICBV211_HW1.ipynb",
   "provenance": []
  },
  "kernelspec": {
   "display_name": "Python 3",
   "language": "python",
   "name": "python3"
  },
  "language_info": {
   "codemirror_mode": {
    "name": "ipython",
    "version": 3
   },
   "file_extension": ".py",
   "mimetype": "text/x-python",
   "name": "python",
   "nbconvert_exporter": "python",
   "pygments_lexer": "ipython3",
   "version": "3.8.5"
  }
 },
 "nbformat": 4,
 "nbformat_minor": 1
}
